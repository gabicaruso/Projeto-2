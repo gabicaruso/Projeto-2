{
 "cells": [
  {
   "cell_type": "markdown",
   "metadata": {},
   "source": [
    "___\n",
    "# Ciência dos Dados - Projeto 1 #\n",
    "___\n",
    "\n",
    "### _Gabriela Caruso e Mayra Peter - 2C_ ###\n",
    "___"
   ]
  },
  {
   "cell_type": "markdown",
   "metadata": {},
   "source": [
    "## Introdução: _Classificador Automático de Sentimento_ ##\n",
    "\n",
    "_Você foi contratado por uma empresa parar analisar como os clientes estão reagindo a um determinado produto no Twitter. A empresa deseja que você crie um programa que irá analisar as mensagens disponíveis e classificará como \"relevante\" ou \"irrelevante\". Com isso ela deseja que mensagens negativas, que denigrem o nome do produto, ou que mereçam destaque, disparem um foco de atenção da área de marketing._\n",
    "\n",
    "_Como aluno de Ciência dos Dados, você lembrou do Teorema de Bayes, mais especificamente do Classificador Naive-Bayes, que é largamente utilizado em filtros anti-spam de e-mails. O classificador permite calcular qual a probabilidade de uma mensagem ser relevante dadas as palavras em seu conteúdo._\n",
    "\n",
    "_Para realizar o MVP (*minimum viable product*) do projeto, você precisa implementar uma versão do classificador que \"aprende\" o que é relevante com uma base de treinamento e compara a performance dos resultados com uma base de testes.<br /><br />\n",
    "Após validado, o seu protótipo poderá também capturar e classificar automaticamente as mensagens da plataforma._\n",
    "\n",
    "___"
   ]
  },
  {
   "cell_type": "markdown",
   "metadata": {},
   "source": [
    "## Objetivo ##\n",
    "\n",
    "Visando analisar o conteúdo de _tweets_ e retornar se eles são ou não relevantes, foi criado um programa que percorre uma planilha de dados coletando informações e, por fim, retorna a  relevância dos dados a partir de suas respectivas probabilidades de ocorrência.\n",
    "___"
   ]
  },
  {
   "cell_type": "code",
   "execution_count": 1,
   "metadata": {},
   "outputs": [],
   "source": [
    "%matplotlib inline\n",
    "%reset -f## Coleta e seleção de dados ##\n",
    "import pandas as pd\n",
    "import numpy as np\n",
    "import matplotlib.pyplot as plt\n",
    "import math\n",
    "import seaborn as sns\n",
    "from emoji import UNICODE_EMOJI"
   ]
  },
  {
   "cell_type": "markdown",
   "metadata": {},
   "source": [
    "## Coleta e seleção de dados ##\n",
    "\n",
    "Foi criado um _dataframe_ contendo 500 _tweets_. Posteriormente foi classificado manualmente a relevância de cada um, sendo 0 (zero) não relevante e 1 (um) relevante.\n",
    "\n",
    "Na célula abaixo está sendo importado o _dataframe_ inicial e separado em \"Treinamento\" (300 _tweets_), a partir do qual serão coletadas as probabilidades, e em \"Teste\" (200 _tweets_), no qual o programa analisará os dados coletados em \"Treinamento\" para calcular a relevância desses 200 _tweets_.\n",
    "___"
   ]
  },
  {
   "cell_type": "code",
   "execution_count": 3,
   "metadata": {},
   "outputs": [],
   "source": [
    "data = pd.ExcelFile('tweets_Tinder_201809041724.xlsx')\n",
    "data_treinamento = pd.read_excel(data, 'Treinamento')\n",
    "data_teste = pd.read_excel(data, 'Teste')"
   ]
  },
  {
   "cell_type": "markdown",
   "metadata": {},
   "source": [
    "## Limpeza dos dados ##\n",
    "\n",
    "Para que o programa não analise partes desnecessárias dos _tweets_, os dados foram filtrados, retirando pontuações e simbolos não relevantes e arrumando espaçamentos incorretos (incluindo entre _emojis_).\n",
    "\n",
    "___"
   ]
  },
  {
   "cell_type": "code",
   "execution_count": 7,
   "metadata": {},
   "outputs": [],
   "source": [
    "data_treinamento.Treinamento = data_treinamento.Treinamento.str.replace(',', '')\n",
    "data_treinamento.Treinamento = data_treinamento.Treinamento.str.replace('.', '')\n",
    "data_treinamento.Treinamento = data_treinamento.Treinamento.str.replace(':', '')\n",
    "data_treinamento.Treinamento = data_treinamento.Treinamento.str.replace('/', ' ')\n",
    "data_treinamento.Treinamento = data_treinamento.Treinamento.str.replace('#', '')\n",
    "data_treinamento.Treinamento = data_treinamento.Treinamento.str.replace('@', '')\n",
    "data_treinamento.Treinamento = data_treinamento.Treinamento.str.replace('?', '')\n",
    "data_treinamento.Treinamento = data_treinamento.Treinamento.str.replace('\\n', '')\n",
    "data_treinamento.Treinamento = data_treinamento.Treinamento.str.replace('rt', '')\n",
    "data_treinamento.Treinamento = data_treinamento.Treinamento.str.replace('(', '')\n",
    "data_treinamento.Treinamento = data_treinamento.Treinamento.str.replace(')', '')\n",
    "data_treinamento.Treinamento = data_treinamento.Treinamento.str.replace('*', '')\n",
    "data_treinamento.Treinamento = data_treinamento.Treinamento.str.replace('“', '')\n",
    "data_treinamento.Treinamento = data_treinamento.Treinamento.str.replace('”', '')\n",
    "data_treinamento.Treinamento = data_treinamento.Treinamento.str.replace('_', '')\n",
    "data_treinamento.Treinamento = data_treinamento.Treinamento.str.replace('&', '')\n",
    "data_treinamento.Treinamento = data_treinamento.Treinamento.str.replace(';', '')\n",
    "data_treinamento.Treinamento = data_treinamento.Treinamento.str.replace('%', '')\n",
    "data_treinamento.Treinamento = data_treinamento.Treinamento.str.replace(\"'\", '')\n",
    "data_treinamento.Treinamento = data_treinamento.Treinamento.str.replace('-', '')\n",
    "data_treinamento.Treinamento = data_treinamento.Treinamento.str.replace('+', '')\n",
    "data_treinamento.Treinamento = data_treinamento.Treinamento.str.replace(\"=\", '')\n",
    "data_treinamento.Treinamento = data_treinamento.Treinamento.str.replace('\"', '')\n",
    "\n",
    "data_teste.Teste = data_teste.Teste.str.replace(',', '')\n",
    "data_teste.Teste = data_teste.Teste.str.replace('.', '')\n",
    "data_teste.Teste = data_teste.Teste.str.replace(':', '')\n",
    "data_teste.Teste = data_teste.Teste.str.replace('/', ' ')\n",
    "data_teste.Teste = data_teste.Teste.str.replace('#', '')\n",
    "data_teste.Teste = data_teste.Teste.str.replace('@', '')\n",
    "data_teste.Teste = data_teste.Teste.str.replace('?', '')\n",
    "data_teste.Teste = data_teste.Teste.str.replace('rt', '')\n",
    "data_teste.Teste = data_teste.Teste.str.replace('\\n', '')\n",
    "data_teste.Teste = data_teste.Teste.str.replace('(', '')\n",
    "data_teste.Teste = data_teste.Teste.str.replace(')', '')\n",
    "data_teste.Teste = data_teste.Teste.str.replace('*', '')\n",
    "data_teste.Teste = data_teste.Teste.str.replace('“', ' ')\n",
    "data_teste.Teste = data_teste.Teste.str.replace('”', '')\n",
    "data_teste.Teste = data_teste.Teste.str.replace('_', '')\n",
    "data_teste.Teste = data_teste.Teste.str.replace('&', '')\n",
    "data_teste.Teste = data_teste.Teste.str.replace(';', '')\n",
    "data_teste.Teste = data_teste.Teste.str.replace('%', '')\n",
    "data_teste.Teste = data_teste.Teste.str.replace(\"'\", '')\n",
    "data_teste.Teste = data_teste.Teste.str.replace('-', '')\n",
    "data_teste.Teste = data_teste.Teste.str.replace('+', '')\n",
    "data_teste.Teste = data_teste.Teste.str.replace('=', ' ')\n",
    "data_teste.Teste = data_teste.Teste.str.replace('\"', '')\n",
    "\n",
    "lista_espaco = []\n",
    "for each in data_treinamento['Treinamento']:\n",
    "    e = ''\n",
    "    for word in each:\n",
    "        if word in UNICODE_EMOJI:\n",
    "            e += \" \" + word + ' '\n",
    "        else:\n",
    "            e += word\n",
    "    lista_espaco.append(e)\n",
    "    \n",
    "data_treinamento['Treinamento'] = lista_espaco\n",
    "\n",
    "lista_espaco2 = []\n",
    "for each in data_teste['Teste']:\n",
    "    e = ''\n",
    "    for word in each:\n",
    "        if word in UNICODE_EMOJI:\n",
    "            e += \" \" + word + ' '\n",
    "        else:\n",
    "            e += word\n",
    "    lista_espaco2.append(e)\n",
    "    \n",
    "data_teste['Teste'] = lista_espaco2"
   ]
  },
  {
   "cell_type": "markdown",
   "metadata": {},
   "source": [
    "## Separação dos dados ##\n",
    "\n",
    "Para facilitar o cálculo das probabilidades, a partir da planilha de treinamento, foram criadas duas novas planilhas, uma contendo os _tweets_ relevantes e outra os irrelevantes.\n",
    "\n",
    "___"
   ]
  },
  {
   "cell_type": "code",
   "execution_count": 11,
   "metadata": {},
   "outputs": [],
   "source": [
    "data_treinamento_relevantes = data_treinamento[(data_treinamento['Relevância'] == 1)]\n",
    "data_treinamento_irrelevantes = data_treinamento[(data_treinamento['Relevância'] == 0)]"
   ]
  },
  {
   "cell_type": "code",
   "execution_count": 10,
   "metadata": {},
   "outputs": [
    {
     "data": {
      "text/html": [
       "<div>\n",
       "<style scoped>\n",
       "    .dataframe tbody tr th:only-of-type {\n",
       "        vertical-align: middle;\n",
       "    }\n",
       "\n",
       "    .dataframe tbody tr th {\n",
       "        vertical-align: top;\n",
       "    }\n",
       "\n",
       "    .dataframe thead th {\n",
       "        text-align: right;\n",
       "    }\n",
       "</style>\n",
       "<table border=\"1\" class=\"dataframe\">\n",
       "  <thead>\n",
       "    <tr style=\"text-align: right;\">\n",
       "      <th></th>\n",
       "      <th>Treinamento</th>\n",
       "      <th>Relevância</th>\n",
       "    </tr>\n",
       "  </thead>\n",
       "  <tbody>\n",
       "    <tr>\n",
       "      <th>2</th>\n",
       "      <td>terceira vez que dou match com a mesma pessoa ...</td>\n",
       "      <td>1</td>\n",
       "    </tr>\n",
       "    <tr>\n",
       "      <th>5</th>\n",
       "      <td>eduaaarda eu n sei pq ainda insisto em instal...</td>\n",
       "      <td>1</td>\n",
       "    </tr>\n",
       "    <tr>\n",
       "      <th>6</th>\n",
       "      <td>tal qual o ubero tinder tinha que ter uma área...</td>\n",
       "      <td>1</td>\n",
       "    </tr>\n",
       "    <tr>\n",
       "      <th>12</th>\n",
       "      <td>karlasnotsorry gente eu criei um tinder da no...</td>\n",
       "      <td>1</td>\n",
       "    </tr>\n",
       "    <tr>\n",
       "      <th>13</th>\n",
       "      <td>karlasnotsorry gente eu criei um tinder da no...</td>\n",
       "      <td>1</td>\n",
       "    </tr>\n",
       "  </tbody>\n",
       "</table>\n",
       "</div>"
      ],
      "text/plain": [
       "                                          Treinamento  Relevância\n",
       "2   terceira vez que dou match com a mesma pessoa ...           1\n",
       "5    eduaaarda eu n sei pq ainda insisto em instal...           1\n",
       "6   tal qual o ubero tinder tinha que ter uma área...           1\n",
       "12   karlasnotsorry gente eu criei um tinder da no...           1\n",
       "13   karlasnotsorry gente eu criei um tinder da no...           1"
      ]
     },
     "execution_count": 10,
     "metadata": {},
     "output_type": "execute_result"
    }
   ],
   "source": [
    "data_treinamento_relevantes.head()"
   ]
  },
  {
   "cell_type": "code",
   "execution_count": 12,
   "metadata": {},
   "outputs": [
    {
     "data": {
      "text/html": [
       "<div>\n",
       "<style scoped>\n",
       "    .dataframe tbody tr th:only-of-type {\n",
       "        vertical-align: middle;\n",
       "    }\n",
       "\n",
       "    .dataframe tbody tr th {\n",
       "        vertical-align: top;\n",
       "    }\n",
       "\n",
       "    .dataframe thead th {\n",
       "        text-align: right;\n",
       "    }\n",
       "</style>\n",
       "<table border=\"1\" class=\"dataframe\">\n",
       "  <thead>\n",
       "    <tr style=\"text-align: right;\">\n",
       "      <th></th>\n",
       "      <th>Treinamento</th>\n",
       "      <th>Relevância</th>\n",
       "    </tr>\n",
       "  </thead>\n",
       "  <tbody>\n",
       "    <tr>\n",
       "      <th>0</th>\n",
       "      <td>o cara do tinder ficou brabo cmg pq eu disse q...</td>\n",
       "      <td>0</td>\n",
       "    </tr>\n",
       "    <tr>\n",
       "      <th>1</th>\n",
       "      <td>fica a questão tinder https  tco iq7iyzucdd</td>\n",
       "      <td>0</td>\n",
       "    </tr>\n",
       "    <tr>\n",
       "      <th>3</th>\n",
       "      <td>meta pra 2018 deletar o tinder ainda esse ano ...</td>\n",
       "      <td>0</td>\n",
       "    </tr>\n",
       "    <tr>\n",
       "      <th>4</th>\n",
       "      <td>para todos os matches do tinder que eu não man...</td>\n",
       "      <td>0</td>\n",
       "    </tr>\n",
       "    <tr>\n",
       "      <th>7</th>\n",
       "      <td>to muito confuso hoje to tipo gente que namora...</td>\n",
       "      <td>0</td>\n",
       "    </tr>\n",
       "  </tbody>\n",
       "</table>\n",
       "</div>"
      ],
      "text/plain": [
       "                                         Treinamento  Relevância\n",
       "0  o cara do tinder ficou brabo cmg pq eu disse q...           0\n",
       "1        fica a questão tinder https  tco iq7iyzucdd           0\n",
       "3  meta pra 2018 deletar o tinder ainda esse ano ...           0\n",
       "4  para todos os matches do tinder que eu não man...           0\n",
       "7  to muito confuso hoje to tipo gente que namora...           0"
      ]
     },
     "execution_count": 12,
     "metadata": {},
     "output_type": "execute_result"
    }
   ],
   "source": [
    "data_treinamento_irrelevantes.head()"
   ]
  },
  {
   "cell_type": "markdown",
   "metadata": {},
   "source": [
    "## Criando listas ##\n",
    "\n",
    "Para separar as palavras, foram criadas três listas. A primeira contendo todas as palavras, a uma segunda contendo as palavras relevantes e outra com as irrelevantes.\n",
    "\n",
    "___"
   ]
  },
  {
   "cell_type": "code",
   "execution_count": null,
   "metadata": {},
   "outputs": [],
   "source": []
  }
 ],
 "metadata": {
  "kernelspec": {
   "display_name": "Python 3",
   "language": "python",
   "name": "python3"
  },
  "language_info": {
   "codemirror_mode": {
    "name": "ipython",
    "version": 3
   },
   "file_extension": ".py",
   "mimetype": "text/x-python",
   "name": "python",
   "nbconvert_exporter": "python",
   "pygments_lexer": "ipython3",
   "version": "3.6.4"
  }
 },
 "nbformat": 4,
 "nbformat_minor": 2
}

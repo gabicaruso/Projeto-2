{
 "cells": [
  {
   "cell_type": "markdown",
   "metadata": {},
   "source": [
    "___\n",
    "# Ciência dos Dados - Projeto 1 #\n",
    "___\n",
    "\n",
    "### _Gabriela Caruso e Mayra Peter - 2C_ ###\n",
    "___"
   ]
  },
  {
   "cell_type": "markdown",
   "metadata": {},
   "source": [
    "## Índice de Desenvolvimento Humano, consumo de eletricidade e uso de Internet ##\n",
    "\n",
    "Foram coletados dois dados do site https://www.gapminder.org/:\n",
    "1. Índice de Desenvolvimento Humano (IDH)\n",
    "1. Consumo de eletricidade por pessoa\n",
    "1. Uso de Internet por cem pessoas\n",
    "\n",
    "Nesses *dataframes*, as linhas representam os países, as colunas representam o ano. O conteúdo de cada célula é a medida do fator em questão de um determinado ano (coluna) para determinado país (linha). \n",
    "\n",
    "Vamos nos restringir a analisar o ano de **2011**.\n",
    "\n",
    "___"
   ]
  },
  {
   "cell_type": "markdown",
   "metadata": {},
   "source": [
    "## Objetivo ##\n",
    "\n",
    "Foram criados _dataframes_ para cada um dos fatores acima tentando responder a seguinte pergunta:\n",
    "\n",
    "***Qual relação pode ser estabelecida entre o Índice de Desenvolvimento Humano (IDH), o consumo de eletricidade por pessoa e o uso de Internt por cem pessoas?***\n",
    "\n",
    "___"
   ]
  },
  {
   "cell_type": "markdown",
   "metadata": {},
   "source": [
    "## Introdução ##\n",
    "\n",
    "Visando entender a relação entre o Índice de Desenvolvimento Humano (IDH), o consumo de eletricidade por pessoa e o uso de Internt por cem pessoas, foi feita uma análise exploratória desses fatores, supondo que haveria uma alta correlação entre eles.\n",
    "\n",
    "___"
   ]
  },
  {
   "cell_type": "code",
   "execution_count": 4,
   "metadata": {},
   "outputs": [],
   "source": [
    "%matplotlib inline\n",
    "%reset -f\n",
    "\n",
    "import pandas as pd\n",
    "import numpy as np\n",
    "import matplotlib.pyplot as plt\n",
    "import math\n",
    "import seaborn as sns\n",
    "from emoji import UNICODE_EMOJI"
   ]
  },
  {
   "cell_type": "markdown",
   "metadata": {},
   "source": [
    "## Coleta e seleção de dados ##\n",
    "\n",
    "Os _dataframes_ criados a seguir já serão restristos ao ano a ser analizado.\n",
    "\n",
    "___"
   ]
  },
  {
   "cell_type": "markdown",
   "metadata": {},
   "source": []
  }
 ],
 "metadata": {
  "kernelspec": {
   "display_name": "Python 3",
   "language": "python",
   "name": "python3"
  },
  "language_info": {
   "codemirror_mode": {
    "name": "ipython",
    "version": 3
   },
   "file_extension": ".py",
   "mimetype": "text/x-python",
   "name": "python",
   "nbconvert_exporter": "python",
   "pygments_lexer": "ipython3",
   "version": "3.6.4"
  }
 },
 "nbformat": 4,
 "nbformat_minor": 2
}
